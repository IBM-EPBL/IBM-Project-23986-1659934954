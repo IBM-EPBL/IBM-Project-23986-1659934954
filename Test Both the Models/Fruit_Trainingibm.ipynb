{
  "nbformat": 4,
  "nbformat_minor": 0,
  "metadata": {
    "colab": {
      "provenance": [],
      "collapsed_sections": []
    },
    "kernelspec": {
      "name": "python3",
      "display_name": "Python 3"
    },
    "language_info": {
      "name": "python"
    }
  },
  "cells": [
    {
      "cell_type": "code",
      "execution_count": null,
      "metadata": {
        "id": "vWEmDh0PrMkY"
      },
      "outputs": [],
      "source": [
        "from keras.preprocessing import image\n",
        "from tensorflow.keras.preprocessing.image import img_to_array\n",
        "from tensorflow.keras.preprocessing import image\n",
        "from tensorflow.keras.models import load_model\n",
        "import numpy as nps"
      ]
    },
    {
      "cell_type": "code",
      "source": [
        "model=load_model(r'C:\\Users\\siva\\project\\flask\\uploads\\fruit.h5')"
      ],
      "metadata": {
        "id": "Jand0j3irXjp"
      },
      "execution_count": null,
      "outputs": []
    },
    {
      "cell_type": "code",
      "source": [
        "img=image.load_img(r'C:\\Users\\siva\\project\\flask\\sample_images\\healthy_apple.jpg',grayscale=False,target_size=(128,128))"
      ],
      "metadata": {
        "id": "HN2qPkeIvzlx"
      },
      "execution_count": null,
      "outputs": []
    },
    {
      "cell_type": "code",
      "source": [
        "x=image.img_to_array(img)\n",
        "x=nps.expand_dims(x,axis=0)"
      ],
      "metadata": {
        "id": "rMgNdhrQv9i7"
      },
      "execution_count": null,
      "outputs": []
    },
    {
      "cell_type": "code",
      "source": [
        "pred=(model.predict(x) > 0.5).astype(\"int32\")"
      ],
      "metadata": {
        "id": "ushEH_7bwBTo"
      },
      "execution_count": null,
      "outputs": []
    },
    {
      "cell_type": "code",
      "source": [
        "pred"
      ],
      "metadata": {
        "id": "DeJm_vRwwHXZ"
      },
      "execution_count": null,
      "outputs": []
    }
  ]
}