{
  "nbformat": 4,
  "nbformat_minor": 0,
  "metadata": {
    "colab": {
      "provenance": [],
      "toc_visible": true
    },
    "kernelspec": {
      "name": "python3",
      "display_name": "Python 3"
    },
    "language_info": {
      "name": "python"
    }
  },
  "cells": [
    {
      "cell_type": "code",
      "execution_count": null,
      "metadata": {
        "id": "0LglGA6zw2I_"
      },
      "outputs": [],
      "source": [
        "from keras.preprocessing import image\n",
        "from tensorflow.keras.preprocessing.image import img_to_array\n",
        "from tensorflow.keras.preprocessing import image\n",
        "from tensorflow.keras.models import load_model\n",
        "import numpy as nps"
      ]
    },
    {
      "cell_type": "code",
      "source": [
        "model=load_model(r'C:\\Users\\siva\\project\\flask\\uploads\\vegetable.h5')"
      ],
      "metadata": {
        "id": "1EKJEysew2rg"
      },
      "execution_count": null,
      "outputs": []
    },
    {
      "cell_type": "code",
      "source": [
        "img=image.load_img(r'C:\\Users\\siva\\project\\flask\\sample_images\\healthy_potato.jpg',grayscale=False,target_size=(128,128))"
      ],
      "metadata": {
        "id": "VHUnCduExBdx"
      },
      "execution_count": null,
      "outputs": []
    },
    {
      "cell_type": "code",
      "source": [
        "img"
      ],
      "metadata": {
        "id": "r-UMXrfIxMHB"
      },
      "execution_count": null,
      "outputs": []
    },
    {
      "cell_type": "code",
      "source": [
        "x=image.img_to_array(img)\n",
        "x=nps.expand_dims(x,axis=0)"
      ],
      "metadata": {
        "id": "JL1KNRUlxNu1"
      },
      "execution_count": null,
      "outputs": []
    },
    {
      "cell_type": "code",
      "source": [
        "pred=(model.predict(x) > 0.5).astype(\"int32\")"
      ],
      "metadata": {
        "id": "5_KNCRfQxRWL"
      },
      "execution_count": null,
      "outputs": []
    },
    {
      "cell_type": "code",
      "source": [
        "pred"
      ],
      "metadata": {
        "id": "FTYyl2YDxUZf"
      },
      "execution_count": null,
      "outputs": []
    }
  ]
}