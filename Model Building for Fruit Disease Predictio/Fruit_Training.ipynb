{
  "cells": [
    {
      "cell_type": "code",
      "execution_count": null,
      "id": "16856fd4",
      "metadata": {
        "id": "16856fd4"
      },
      "outputs": [],
      "source": [
        "from keras.preprocessing.image import ImageDataGenerator\n",
        "train_datagen=ImageDataGenerator(rescale=1./255,shear_range=0.2,zoom_range=0.2,horizontal_flip=True)\n",
        "test_datagen=ImageDataGenerator(rescale=1)"
      ]
    },
    {
      "cell_type": "code",
      "execution_count": null,
      "id": "60e48d97",
      "metadata": {
        "id": "60e48d97",
        "outputId": "63addb87-953e-4e6e-adfa-a3163cd9af19"
      },
      "outputs": [
        {
          "name": "stdout",
          "output_type": "stream",
          "text": [
            "Found 5384 images belonging to 6 classes.\n",
            "Found 1686 images belonging to 6 classes.\n"
          ]
        }
      ],
      "source": [
        "x_train=train_datagen.flow_from_directory(r'C:\\Users\\siva\\project\\Dataset Plant Disease\\fruit-dataset\\fruit-dataset\\train',target_size=(128,128),batch_size=2,class_mode='categorical')\n",
        "x_test=test_datagen.flow_from_directory(r'C:\\Users\\siva\\project\\Dataset Plant Disease\\fruit-dataset\\fruit-dataset\\test',target_size=(128,128),batch_size=2,class_mode='categorical')"
      ]
    },
    {
      "cell_type": "code",
      "execution_count": null,
      "id": "5b49fb49",
      "metadata": {
        "id": "5b49fb49"
      },
      "outputs": [],
      "source": [
        "from keras.models import Sequential\n",
        "from keras.layers import Dense\n",
        "from keras.layers import Convolution2D\n",
        "from keras.layers import MaxPooling2D\n",
        "from keras.layers import Flatten"
      ]
    },
    {
      "cell_type": "code",
      "execution_count": null,
      "id": "c9f97db4",
      "metadata": {
        "id": "c9f97db4"
      },
      "outputs": [],
      "source": [
        "model=Sequential()"
      ]
    },
    {
      "cell_type": "code",
      "execution_count": null,
      "id": "469c271d",
      "metadata": {
        "id": "469c271d"
      },
      "outputs": [],
      "source": [
        "model.add(Convolution2D(32,(3,3),input_shape=(128,128,3),activation='relu'))"
      ]
    },
    {
      "cell_type": "code",
      "execution_count": null,
      "id": "b5d53825",
      "metadata": {
        "id": "b5d53825"
      },
      "outputs": [],
      "source": [
        "model.add(MaxPooling2D(pool_size=(2,2)))"
      ]
    },
    {
      "cell_type": "code",
      "execution_count": null,
      "id": "e34afddf",
      "metadata": {
        "id": "e34afddf"
      },
      "outputs": [],
      "source": [
        "model.add(Flatten())"
      ]
    },
    {
      "cell_type": "code",
      "execution_count": null,
      "id": "28a70d32",
      "metadata": {
        "id": "28a70d32"
      },
      "outputs": [],
      "source": [
        "model.add(Dense(units=40,kernel_initializer='uniform',activation='relu'))\n",
        "model.add(Dense(units=70,kernel_initializer='random_uniform',activation='relu'))\n",
        "model.add(Dense(units=6,kernel_initializer='random_uniform',activation='softmax'))"
      ]
    },
    {
      "cell_type": "code",
      "execution_count": null,
      "id": "9aed627b",
      "metadata": {
        "id": "9aed627b"
      },
      "outputs": [],
      "source": [
        "model.compile(loss='categorical_crossentropy',optimizer=\"adam\",metrics=[\"accuracy\"])"
      ]
    },
    {
      "cell_type": "code",
      "execution_count": null,
      "id": "c99d2ba8",
      "metadata": {
        "id": "c99d2ba8"
      },
      "outputs": [],
      "source": [
        "model.fit(x_train,steps_per_epoch=168,epochs=3,validation_data=x_test,validation_steps=52)"
      ]
    },
    {
      "cell_type": "code",
      "execution_count": null,
      "id": "38a2791b",
      "metadata": {
        "id": "38a2791b"
      },
      "outputs": [],
      "source": [
        "model.save(r'C:\\Users\\uma25\\project\\flask\\uploads\\fruit.h5')"
      ]
    },
    {
      "cell_type": "code",
      "execution_count": null,
      "id": "e8fcccb8",
      "metadata": {
        "colab": {
          "base_uri": "https://localhost:8080/"
        },
        "id": "e8fcccb8",
        "outputId": "ee99e0ef-3900-405c-af74-207e43969c6a"
      },
      "outputs": [
        {
          "output_type": "stream",
          "name": "stdout",
          "text": [
            "Model: \"sequential\"\n",
            "_________________________________________________________________\n",
            " Layer (type)                Output Shape              Param #   \n",
            "=================================================================\n",
            " conv2d (Conv2D)             (None, 126, 126, 32)      896       \n",
            "                                                                 \n",
            " max_pooling2d (MaxPooling2D  (None, 63, 63, 32)       0         \n",
            " )                                                               \n",
            "                                                                 \n",
            " flatten (Flatten)           (None, 127008)            0         \n",
            "                                                                 \n",
            " dense (Dense)               (None, 40)                5080360   \n",
            "                                                                 \n",
            " dense_1 (Dense)             (None, 70)                2870      \n",
            "                                                                 \n",
            " dense_2 (Dense)             (None, 6)                 426       \n",
            "                                                                 \n",
            "=================================================================\n",
            "Total params: 5,084,552\n",
            "Trainable params: 5,084,552\n",
            "Non-trainable params: 0\n",
            "_________________________________________________________________\n"
          ]
        }
      ],
      "source": [
        "model.summary()"
      ]
    }
  ],
  "metadata": {
    "kernelspec": {
      "display_name": "Python 3 (ipykernel)",
      "language": "python",
      "name": "python3"
    },
    "language_info": {
      "codemirror_mode": {
        "name": "ipython",
        "version": 3
      },
      "file_extension": ".py",
      "mimetype": "text/x-python",
      "name": "python",
      "nbconvert_exporter": "python",
      "pygments_lexer": "ipython3",
      "version": "3.9.12"
    },
    "colab": {
      "provenance": [],
      "collapsed_sections": []
    }
  },
  "nbformat": 4,
  "nbformat_minor": 5
}